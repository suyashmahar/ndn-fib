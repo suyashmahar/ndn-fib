{
 "cells": [
  {
   "cell_type": "code",
   "execution_count": 82,
   "metadata": {
    "collapsed": true
   },
   "outputs": [],
   "source": [
    "from __future__ import division\n",
    "import numpy as np\n",
    "import matplotlib.pyplot as plt\n",
    "from scipy.interpolate import spline\n",
    "fibdataset = open('../datasets/Average_length_trimmed_sorted.fib')"
   ]
  },
  {
   "cell_type": "code",
   "execution_count": 83,
   "metadata": {
    "collapsed": false
   },
   "outputs": [
    {
     "name": "stdout",
     "output_type": "stream",
     "text": [
      "Number entries used for analysis: 1607424\n"
     ]
    }
   ],
   "source": [
    "# Prints size of the database used\n",
    "entries = str(sum(1 for _ in fibdataset))\n",
    "fibdataset.seek(0)\n",
    "print \"Number entries used for analysis: \" + entries"
   ]
  },
  {
   "cell_type": "code",
   "execution_count": 84,
   "metadata": {
    "collapsed": false
   },
   "outputs": [],
   "source": [
    "# Returns number of strides in a name\n",
    "def getStrides(name, strideLen):\n",
    "    curLen = 0\n",
    "    strideCount = 0\n",
    "    for char in name:\n",
    "        if (curLen >= strideLen):\n",
    "            strideCount += 1\n",
    "            curLen = 1\n",
    "            print \"\"\n",
    "            print char,\n",
    "        elif (char == '/'):\n",
    "            strideCount+=1\n",
    "            print \"\"\n",
    "            print char,\n",
    "            curLen = 1\n",
    "        else:\n",
    "            curLen += 1\n",
    "            print char,\n",
    "    return strideCount+1"
   ]
  },
  {
   "cell_type": "markdown",
   "metadata": {},
   "source": [
    "Currently using this approach:\n",
    "com/google/news/2017/07\n",
    "\n",
    "**breaks into**\n",
    "**com** <->\n",
    "**/go** <-> \n",
    "**ogl** <-> \n",
    "**e** <->\n",
    "**/ne** <->\n",
    "**ws** <->\n",
    "**/20** <->\n",
    "**17** <->\n",
    "**/07**"
   ]
  },
  {
   "cell_type": "code",
   "execution_count": 85,
   "metadata": {
    "collapsed": false,
    "scrolled": true
   },
   "outputs": [
    {
     "name": "stdout",
     "output_type": "stream",
     "text": [
      "c o m \n",
      "/ g o \n",
      "o g l \n",
      "e \n",
      "/ n e \n",
      "w s \n",
      "/ 2 0 \n",
      "1 7 \n",
      "/ 0 7"
     ]
    },
    {
     "data": {
      "text/plain": [
       "9"
      ]
     },
     "execution_count": 85,
     "metadata": {},
     "output_type": "execute_result"
    },
    {
     "name": "stdout",
     "output_type": "stream",
     "text": [
      "\n"
     ]
    }
   ],
   "source": [
    "getStrides(\"com/google/news/2017/07\", 3)"
   ]
  },
  {
   "cell_type": "code",
   "execution_count": 86,
   "metadata": {
    "collapsed": true
   },
   "outputs": [],
   "source": [
    "# Returns number of strides in a name\n",
    "def getNumberOfStrides(name, strideLen):\n",
    "    curLen = 0\n",
    "    strideCount = 0\n",
    "    for char in name:\n",
    "        if (curLen >= strideLen):\n",
    "            strideCount += 1\n",
    "            curLen = 1\n",
    "        elif (char == '/'):\n",
    "            strideCount+=1\n",
    "            curLen = 1\n",
    "        else:\n",
    "            curLen += 1\n",
    "    return strideCount+1"
   ]
  },
  {
   "cell_type": "code",
   "execution_count": 87,
   "metadata": {
    "collapsed": false
   },
   "outputs": [
    {
     "name": "stdout",
     "output_type": "stream",
     "text": [
      "9\n",
      "8\n"
     ]
    }
   ],
   "source": [
    "# Expected: com /go ogl e /ne ws /20 17 /07 :: 9\n",
    "print getNumberOfStrides(\"com/google/news/2017/07\", 3)\n",
    "# Expected: com /bi ng/ map s /ro ork ee :: 8\n",
    "print getNumberOfStrides(\"com/bing/maps/roorkee\", 3)"
   ]
  },
  {
   "cell_type": "code",
   "execution_count": 88,
   "metadata": {
    "collapsed": false
   },
   "outputs": [
    {
     "name": "stdout",
     "output_type": "stream",
     "text": [
      "33\n"
     ]
    }
   ],
   "source": [
    "maxLen = 0\n",
    "for line in fibdataset:\n",
    "    curLen = getNumberOfStrides(line, 3)\n",
    "    if curLen > maxLen:\n",
    "        maxLen = curLen\n",
    "fibdataset.seek(0)\n",
    "print maxLen"
   ]
  },
  {
   "cell_type": "code",
   "execution_count": 89,
   "metadata": {
    "collapsed": false
   },
   "outputs": [],
   "source": [
    "arr = [0]*maxLen"
   ]
  },
  {
   "cell_type": "code",
   "execution_count": 90,
   "metadata": {
    "collapsed": false
   },
   "outputs": [
    {
     "name": "stdout",
     "output_type": "stream",
     "text": [
      "33\n"
     ]
    }
   ],
   "source": [
    "for line in fibdataset:\n",
    "    curLen = getNumberOfStrides(line, 3)\n",
    "    arr[curLen-1] += 1\n",
    "fibdataset.seek(0)\n",
    "print maxLen"
   ]
  },
  {
   "cell_type": "code",
   "execution_count": 91,
   "metadata": {
    "collapsed": false
   },
   "outputs": [
    {
     "data": {
      "image/png": "[encoded data removed]",
      "text/plain": [
       "<matplotlib.figure.Figure at 0x7f73086e2c10>"
      ]
     },
     "metadata": {},
     "output_type": "display_data"
    }
   ],
   "source": [
    "  \n",
    "fig = plt.figure(figsize=(20,10))\n",
    "ax = fig.add_subplot(111)\n",
    "ax.set_ylim(0, max(arr) * 1.2)\n",
    "\n",
    "plt.plot(arr, 'b-o')\n",
    "\n",
    "plt.show()"
   ]
  },
  {
   "cell_type": "code",
   "execution_count": null,
   "metadata": {
    "collapsed": true
   },
   "outputs": [],
   "source": []
  }
 ],
 "metadata": {
  "kernelspec": {
   "display_name": "k_means",
   "language": "python",
   "name": "k_means"
  },
  "language_info": {
   "codemirror_mode": {
    "name": "ipython",
    "version": 2
   },
   "file_extension": ".py",
   "mimetype": "text/x-python",
   "name": "python",
   "nbconvert_exporter": "python",
   "pygments_lexer": "ipython2",
   "version": "2.7.13"
  }
 },
 "nbformat": 4,
 "nbformat_minor": 2
}
